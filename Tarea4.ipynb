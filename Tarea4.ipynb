{
 "cells": [
  {
   "cell_type": "markdown",
   "metadata": {},
   "source": [
    "# Tarea 4\n"
   ]
  },
  {
   "cell_type": "markdown",
   "metadata": {},
   "source": []
  },
  {
   "cell_type": "markdown",
   "metadata": {},
   "source": [
    "## Caracteristicas"
   ]
  },
  {
   "cell_type": "markdown",
   "metadata": {},
   "source": [
    "### Limones\n",
    "\n",
    "1. distancia al centroide de cada punto no varia mucho con respecto a la distancia promedio de todos los pixeles al centroide\n",
    "2. circular/ovalado\n",
    "3. diametro 1 circulo hough > x numero definido por el diametro de la arandela, es decir mucho mayor al diametro de la arandela\n",
    "4. gran cantidad de pixeles"
   ]
  },
  {
   "cell_type": "markdown",
   "metadata": {},
   "source": [
    "### Arandelas\n",
    "\n",
    "1. circular\n",
    "2. centro con pocos pixeles\n",
    "3. pocos pixeles\n",
    "4. l y h muy pequeños\n",
    "5. centroide es de un valor diferente de los pixeles del objeto"
   ]
  },
  {
   "cell_type": "markdown",
   "metadata": {},
   "source": [
    "### Clavos\n",
    "\n",
    "1. largos\n",
    "2. brillantes\n",
    "3. cabeza larga\n",
    "4. distancia al centroide de varios puntos varia mucho con respecto a la distancia promedio de todos los pixeles al centroide\n",
    "5. delgados"
   ]
  },
  {
   "cell_type": "markdown",
   "metadata": {},
   "source": [
    "### Expander\n",
    "\n",
    "1. largo, menos largo que un clavo\n",
    "2. delgado, mas ancho que el clavo\n",
    "3. puede tener patitas\n",
    "4. \n"
   ]
  },
  {
   "cell_type": "markdown",
   "metadata": {},
   "source": [
    "### Prensa\n",
    "\n",
    "1. similar en largo que expander, menos que clavo\n",
    "2. simitria a lo largo\n",
    "3. corte transversal una mitad mas ancha que la otra\n",
    "4. "
   ]
  },
  {
   "cell_type": "code",
   "execution_count": null,
   "metadata": {},
   "outputs": [],
   "source": []
  }
 ],
 "metadata": {
  "language_info": {
   "name": "python"
  },
  "orig_nbformat": 4
 },
 "nbformat": 4,
 "nbformat_minor": 2
}
