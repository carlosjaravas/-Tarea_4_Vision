{
 "cells": [
  {
   "cell_type": "markdown",
   "metadata": {},
   "source": [
    "# Tarea 4\n"
   ]
  },
  {
   "cell_type": "markdown",
   "metadata": {},
   "source": []
  },
  {
   "cell_type": "markdown",
   "metadata": {},
   "source": [
    "## Caracteristicas"
   ]
  },
  {
   "cell_type": "markdown",
   "metadata": {},
   "source": [
    "### Limones\n",
    "\n",
    "1. distancia al centroide de cada punto no varia mucho con respecto a la distancia promedio de todos los pixeles al centroide\n",
    "2. circular/ovalado\n",
    "3. diametro 1 circulo hough > x numero definido por el diametro de la arandela, es decir mucho mayor al diametro de la arandela\n",
    "4. gran cantidad de pixeles"
   ]
  },
  {
   "cell_type": "markdown",
   "metadata": {},
   "source": [
    "### Arandelas\n",
    "\n",
    "1. circular\n",
    "2. centro con pocos pixeles\n",
    "3. pocos pixeles\n",
    "4. l y h muy pequeños\n",
    "5. centroide es de un valor diferente de los pixeles del objeto"
   ]
  },
  {
   "cell_type": "markdown",
   "metadata": {},
   "source": [
    "### Clavos\n",
    "\n",
    "1. largos\n",
    "2. brillantes\n",
    "3. cabeza larga\n",
    "4. distancia al centroide de varios puntos varia mucho con respecto a la distancia promedio de todos los pixeles al centroide\n",
    "5. delgados"
   ]
  },
  {
   "cell_type": "markdown",
   "metadata": {},
   "source": [
    "### Expander\n",
    "\n",
    "1. largo, menos largo que un clavo\n",
    "2. delgado, mas ancho que el clavo\n",
    "3. puede tener patitas\n",
    "4. \n"
   ]
  },
  {
   "cell_type": "markdown",
   "metadata": {},
   "source": [
    "### Prensa\n",
    "\n",
    "1. similar en largo que expander, menos que clavo\n",
    "2. simitria a lo largo\n",
    "3. corte transversal una mitad mas ancha que la otra\n",
    "4. "
   ]
  },
  {
   "cell_type": "code",
   "execution_count": 2,
   "metadata": {},
   "outputs": [],
   "source": [
    "#Importar las librerías por utilizar\n",
    "import os\n",
    "import numpy as np\n",
    "from skimage import io\n",
    "from skimage.transform import resize, probabilistic_hough_line,hough_circle, hough_circle_peaks\n",
    "from skimage.feature import canny\n",
    "from skimage.draw import circle_perimeter\n",
    "from sklearn.cluster import KMeans\n",
    "from sklearn.utils import shuffle\n",
    "from skimage.color import rgb2gray\n",
    "import matplotlib.pyplot as plt\n",
    "from skimage.draw import circle_perimeter\n",
    "\n",
    "#Obtener la direccion de las imagenes\n",
    "path = os.getcwd()"
   ]
  },
  {
   "cell_type": "code",
   "execution_count": 3,
   "metadata": {},
   "outputs": [],
   "source": [
    "N_SEEDS = 760\n",
    "\n",
    "# 8-vecindad\n",
    "VECINDAD = [\n",
    "    (-1,-1), (-1, 0), (-1, 1),\n",
    "    ( 0,-1),          ( 0, 1),\n",
    "    ( 1,-1), ( 1, 0), ( 1, 1)]\n"
   ]
  },
  {
   "cell_type": "code",
   "execution_count": 4,
   "metadata": {},
   "outputs": [],
   "source": [
    "def centroides_dados_draft(puntos):\n",
    "    image_array = puntos\n",
    "    #image_array_sample = shuffle(image_array, random_state=0, n_samples=1_000)\n",
    "    #kmeans = KMeans(n_clusters=3, random_state=0).fit(image_array_sample)\n",
    "    kmeans = KMeans(n_clusters=3, random_state=0).fit(puntos)\n",
    "    #labels = kmeans.predict(image_array)\n",
    "    colores = kmeans.cluster_centers_\n",
    "    return colores"
   ]
  },
  {
   "cell_type": "code",
   "execution_count": 7,
   "metadata": {},
   "outputs": [
    {
     "data": {
      "image/png": "[encoded data removed]",
      "text/plain": [
       "<Figure size 432x288 with 1 Axes>"
      ]
     },
     "metadata": {
      "needs_background": "light"
     },
     "output_type": "display_data"
    }
   ],
   "source": [
    "#Imagen original\n",
    "file_path = os.path.join(path , 'Imagen_a_utilizar.jpeg')\n",
    "img_org = io.imread(file_path, as_gray=True)\n",
    "img_edges = canny(img_org, 2, 1, 25)\n",
    "# imagen de pixeles visitados, evita revisitar pixeles\n",
    "visitado = np.zeros(shape=(img_edges.shape), dtype=np.uint8)\n",
    "plt.imshow(img_edges, cmap='gray')\n",
    "plt.axis('off')\n",
    "plt.savefig('Segmentacion 3.jpg', bbox_inches='tight')"
   ]
  },
  {
   "cell_type": "code",
   "execution_count": 9,
   "metadata": {},
   "outputs": [],
   "source": [
    "def generate_seeds(img):\n",
    "    #shape = y,x\n",
    "    shape = img.shape\n",
    "    #cada semilla se guarda como x,y\n",
    "    seeds = np.zeros((N_SEEDS,2), dtype=np.uint16)\n",
    "    for i in range(N_SEEDS):\n",
    "        #punto en x\n",
    "        x = np.random.randint(0,shape[1])\n",
    "        #punto en y\n",
    "        y = np.random.randint(0,shape[0])\n",
    "        if img[y][x] == False:\n",
    "            seeds[i][0] = x\n",
    "            seeds[i][1] = y\n",
    "    return seeds\n",
    "\n",
    "\n",
    "def region_growth1(seed, bin_img, visitado, out_img = np.zeros(shape=(320,240,3), dtype=np.uint8)):  \n",
    "    h, w = bin_img.shape\n",
    "    region = [seed]\n",
    "    # Crecimiento de la región\n",
    "    while len(region):\n",
    "        seed = region.pop(0)\n",
    "        x = seed[0]\n",
    "        y = seed[1]\n",
    "        # Marca la semilla como visitada\n",
    "        visitado[y][x] = 1\n",
    "        for vecino in VECINDAD:\n",
    "            cur_x = x + vecino[0]\n",
    "            cur_y = y + vecino[1]\n",
    "            # limites de la imagen\n",
    "            if cur_x <0 or cur_y<0 or cur_x >= w or cur_y >=h :\n",
    "                continue\n",
    "            # crea nueva semilla si el pixel actual es igual a la semilla\n",
    "            # y si aun no está visitado, marca pixel actual como visitado\n",
    "            if (not visitado[cur_y][cur_x]) and (bin_img[cur_y][cur_x]==bin_img[y][x]):\n",
    "                out_img[cur_y][cur_x] = True\n",
    "                visitado[cur_y][cur_x] = 1\n",
    "                region.append((cur_x,cur_y))\n",
    "    return out_img\n",
    "\n",
    "def region_growth(seed, img, visitado):\n",
    "    h, w = img.shape\n",
    "    out_img = np.zeros(img.shape, dtype=np.uint8)\n",
    "    region = [seed]\n",
    "    # Crecimiento de la región\n",
    "    while len(region):\n",
    "        seed = region.pop(0)\n",
    "        x = seed[0]\n",
    "        y = seed[1]\n",
    "        # Marca la semilla como visitada\n",
    "        visitado[y][x] = 1\n",
    "        for vecino in VECINDAD:\n",
    "            cur_x = x + vecino[0]\n",
    "            cur_y = y + vecino[1]\n",
    "            # limites de la imagen\n",
    "            if cur_x <0 or cur_y<0 or cur_x >= w or cur_y >=h :\n",
    "                continue\n",
    "            # crea nueva semilla si el pixel actual es similar a la semilla\n",
    "            # y si aun no está visitado, marca pixel actual como visitado\n",
    "            if (not visitado[cur_y][cur_x]) and (img[cur_y][cur_x] == img[y][x]):\n",
    "                out_img[cur_y][cur_x] = True\n",
    "                visitado[cur_y][cur_x] = 1\n",
    "                region.append((cur_x,cur_y))\n",
    "    return out_img\n",
    "\n"
   ]
  }
 ],
 "metadata": {
  "interpreter": {
   "hash": "9bd63d4d0e53dd854605697514204d0a3a6bfb81f118d4d4374019a86f3401eb"
  },
  "kernelspec": {
   "display_name": "Python 3.10.2 64-bit",
   "language": "python",
   "name": "python3"
  },
  "language_info": {
   "codemirror_mode": {
    "name": "ipython",
    "version": 3
   },
   "file_extension": ".py",
   "mimetype": "text/x-python",
   "name": "python",
   "nbconvert_exporter": "python",
   "pygments_lexer": "ipython3",
   "version": "3.10.2"
  },
  "orig_nbformat": 4
 },
 "nbformat": 4,
 "nbformat_minor": 2
}
